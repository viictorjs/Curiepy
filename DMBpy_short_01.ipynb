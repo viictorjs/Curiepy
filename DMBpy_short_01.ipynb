{
 "cells": [
  {
   "cell_type": "code",
   "execution_count": 19,
   "metadata": {},
   "outputs": [],
   "source": [
    "import warnings\n",
    "warnings.filterwarnings(\"ignore\")\n",
    "import numpy as np\n",
    "import scipy.interpolate\n",
    "import os\n",
    "import matplotlib.pyplot as plt\n",
    "import scipy.interpolate\n",
    "import matplotlib.gridspec as gridspec\n",
    "import ctypes\n",
    "from fatiando.gravmag import transform\n",
    "import os.path\n",
    "import matplotlib.image as mpimg\n",
    "\n",
    "def findPeak(data,alpha): #Open .txt mag data and plot the power spectrum related to certain alpha\n",
    "    \n",
    "    #open Mag data\n",
    "    x,y,mag = np.loadtxt(data, usecols=(0,1,2), unpack = True, delimiter=',') \n",
    "    \n",
    "    #Prepare data to calculate power density spectrum   \n",
    "    N = int(np.sqrt(len(mag)))       \n",
    "    shape = (N,N)\n",
    "    x_grid = np.linspace(x.min(), x.max(), N)\n",
    "    y_grid = np.linspace(y.min(), y.max(), N)\n",
    "    xi,yi = np.meshgrid(x_grid,y_grid)\n",
    "    zi = scipy.interpolate.griddata((x, y), mag,(xi,yi), method='cubic')\n",
    "    \n",
    "    #Calculate 2D power spectrum and radial average\n",
    "    kx, ky, pds = transform.power_density_spectra(xi, yi, zi, shape) \n",
    "    k_radial = np.sqrt(kx*kx + ky*ky)\n",
    "    pds_defractal = pds*(k_radial**alpha) #Defract the observed power density spectrum\n",
    "    k_radial, pds_radial = transform.radial_average_spectrum(kx, ky, pds_defractal)\n",
    "    k_radial = k_radial*1000 #Adjust unit from rad/m to rad/km\n",
    "    \n",
    "    #Plot radial average\n",
    "    plt.plot(k_radial,np.log(pds_radial),'-o',c=\"k\")\n",
    "    plt.grid(lw=.5,c=\"lightblue\")\n",
    "    plt.title('alpha='+str(alpha))\n",
    "    plt.xlabel(\"K radial (rad/km)\")\n",
    "    plt.ylabel(\"ln(PDS radial)\")\n",
    "    plt.xlim(0,1)\n",
    "    \n",
    "def defractal(data,Kzt_min,Kzt_max,Kz0_min,Kz0_max):\n",
    "    #open Mag data\n",
    "    x,y,mag = np.loadtxt(data, usecols=(0,1,2), unpack = True, delimiter=',') \n",
    "    \n",
    "    #Prepare data to calculate power density spectrum   \n",
    "    N = int(np.sqrt(len(mag)))       \n",
    "    shape = (N,N)\n",
    "    x_grid = np.linspace(x.min(), x.max(), N)\n",
    "    y_grid = np.linspace(y.min(), y.max(), N)\n",
    "    xi,yi = np.meshgrid(x_grid,y_grid)\n",
    "    zi = scipy.interpolate.griddata((x, y), mag,(xi,yi), method='cubic')\n",
    "    \n",
    "    #Calculate 2D power spectrum and radial average\n",
    "    kx, ky, pds = transform.power_density_spectra(xi, yi, zi, shape) \n",
    "    k_radial_centroid, pds_centroid = transform.radial_average_spectrum(kx, ky, pds)\n",
    "    k_radial_centroid = k_radial_centroid*1000\n",
    "    \n",
    "    k_radial_centroid = k_radial_centroid[np.where(k_radial_centroid<=0.8)]\n",
    "    pds_centroid = pds_centroid[np.where(k_radial_centroid<=0.8)]\n",
    "    \n",
    "    alpha = 0\n",
    "    a_inc = 0.2\n",
    "    a_lim = 4\n",
    "    \n",
    "    xmed = x.min()+(x.max()-x.min())/2\n",
    "    ymed = y.min()+(y.max()-y.min())/2\n",
    "    \n",
    "    zts,zbs,alphas,rmss = [],[],[],[]\n",
    "    \n",
    "    with open('table_parameters.txt', \"w\") as arq:\n",
    "        arq.write(\"X Y Zt Zb Alpha RMS\\n\")\n",
    "    \n",
    "    while alpha <= a_lim+a_inc:\n",
    "        k_radial = np.sqrt(kx*kx + ky*ky)\n",
    "        pds_defractal = pds*(k_radial**alpha) #Defract the observed power density spectrum\n",
    "        k_radial, pds_radial = transform.radial_average_spectrum(kx, ky, pds_defractal)\n",
    "        k_radial = k_radial*1000 #Adjust unit from rad/m to rad/km\n",
    "        \n",
    "        k_radial = k_radial[np.where(k_radial <= 0.8)]\n",
    "        pds_radial = pds_radial[np.where(k_radial <= 0.8)]\n",
    "        \n",
    "        #k_radial = np.where((k_radial >= Kzt_min) & (k_radial <= Kzt_max),k_radial,np.nan)\n",
    "        k_radial_indZt = np.where((k_radial >= Kzt_min) & (k_radial <= Kzt_max))\n",
    "        k_radial_Zt=k_radial[k_radial_indZt]\n",
    "\n",
    "        #Fit line using K ranges for Zt\n",
    "        m, b1 = np.polyfit(k_radial_Zt, np.log(pds_radial)[k_radial_indZt], 1)\n",
    "        zt = abs(m)/2\n",
    "        \n",
    "        k_radial_indZ0 = np.where((k_radial >= Kz0_min) & (k_radial <= Kz0_max))\n",
    "        k_radial_Z0=k_radial[k_radial_indZ0]\n",
    "        \n",
    "        #Fit line using K ranges for Z0\n",
    "        m, b2 = np.polyfit(k_radial_Z0[1:], \n",
    "                np.log(np.sqrt(pds_radial)/k_radial)[k_radial_indZ0][1:], 1)\n",
    "        z0 = abs(m)\n",
    "        zb = 2*z0 - zt\n",
    "        \n",
    "        #calculate RMS between calculated and modelled\n",
    "        model = (np.log(np.exp(b1)*((1/np.exp(abs(k_radial)*zt)) - 1/np.exp(abs(k_radial)*zb))**2))\n",
    "        soma = np.sum((np.log(model[1:])-np.log(pds_radial[1:])**2))\n",
    "        rms = np.sqrt(soma/len(model))\n",
    "        \n",
    "        curva_zt = np.log(pds_radial*(k_radial**alpha))\n",
    "        curva_z0 = np.log((np.sqrt(pds_radial)/k_radial)*(k_radial**alpha))\n",
    "        \n",
    "        #save figure with ln(power) centroid, ln(power) calculated, ln(power) modelled\n",
    "        plt.plot(k_radial_centroid,np.log(pds_centroid),label = 'Centroid')\n",
    "        plt.plot(k_radial,np.log(pds_radial),label = 'Defractal')\n",
    "        plt.plot(k_radial,model,label = 'Model')\n",
    "        plt.legend()\n",
    "        plt.xlim(0,1)\n",
    "        plt.grid(lw=.5,c=\"lightblue\")\n",
    "        plt.title('alpha='+str(alpha))\n",
    "        plt.xlabel(\"K radial (rad/km)\")\n",
    "        plt.ylabel(\"ln(PDS radial)\")\n",
    "        plt.savefig(\"alpha%.1f.png\"%alpha,dpi=300)        \n",
    "        zts.append(zt)\n",
    "        zbs.append(zb)\n",
    "        alphas.append(alpha)\n",
    "        rmss.append(rms)\n",
    "        \n",
    "        print(\"Modelling for a = %.1f complete! Figure saved!\"%alpha)\n",
    "        \n",
    "        alpha +=a_inc\n",
    "        plt.clf()\n",
    "        \n",
    "    #save txt with x,y,zt,zb,alpha,rms  \n",
    "    with open('table_parameters.txt', \"a\") as arq:\n",
    "        for i in range(len(zts)):\n",
    "            arq.write(\"%.2f, %.2f, %.2f, %.2f, %.2f, %.2f\\n\"%(xmed,ymed,zts[i],zbs[i],alphas[i],rmss[i]))\n",
    "    \n",
    "    print(\"Done! Figures and table of parameters saved!\")                          "
   ]
  },
  {
   "cell_type": "code",
   "execution_count": 23,
   "metadata": {},
   "outputs": [
    {
     "data": {
      "image/png": "[encoded data removed]",
      "text/plain": [
       "<Figure size 432x288 with 1 Axes>"
      ]
     },
     "metadata": {
      "needs_background": "light"
     },
     "output_type": "display_data"
    }
   ],
   "source": [
    "findPeak(\"window_308.txt\",2)"
   ]
  },
  {
   "cell_type": "code",
   "execution_count": 20,
   "metadata": {},
   "outputs": [
    {
     "name": "stdout",
     "output_type": "stream",
     "text": [
      "Modelling for a = 0.0 complete! Figure saved!\n",
      "Modelling for a = 0.2 complete! Figure saved!\n",
      "Modelling for a = 0.4 complete! Figure saved!\n",
      "Modelling for a = 0.6 complete! Figure saved!\n",
      "Modelling for a = 0.8 complete! Figure saved!\n",
      "Modelling for a = 1.0 complete! Figure saved!\n",
      "Modelling for a = 1.2 complete! Figure saved!\n",
      "Modelling for a = 1.4 complete! Figure saved!\n",
      "Modelling for a = 1.6 complete! Figure saved!\n",
      "Modelling for a = 1.8 complete! Figure saved!\n",
      "Modelling for a = 2.0 complete! Figure saved!\n",
      "Modelling for a = 2.2 complete! Figure saved!\n",
      "Modelling for a = 2.4 complete! Figure saved!\n",
      "Modelling for a = 2.6 complete! Figure saved!\n",
      "Modelling for a = 2.8 complete! Figure saved!\n",
      "Modelling for a = 3.0 complete! Figure saved!\n",
      "Modelling for a = 3.2 complete! Figure saved!\n",
      "Modelling for a = 3.4 complete! Figure saved!\n",
      "Modelling for a = 3.6 complete! Figure saved!\n",
      "Modelling for a = 3.8 complete! Figure saved!\n",
      "Modelling for a = 4.0 complete! Figure saved!\n",
      "Done! Figures and table of parameters saved!\n"
     ]
    },
    {
     "data": {
      "text/plain": [
       "<Figure size 432x288 with 0 Axes>"
      ]
     },
     "metadata": {},
     "output_type": "display_data"
    }
   ],
   "source": [
    "#Define the point position k Range for Zt and Z0\n",
    "Kzt_min = 0.18\n",
    "Kzt_max = 0.4\n",
    "Kz0_min = 0\n",
    "Kz0_max = 0.15\n",
    "\n",
    "defractal(\"window_308.txt\",Kzt_min,Kzt_max,Kz0_min,Kz0_max)"
   ]
  },
  {
   "cell_type": "code",
   "execution_count": null,
   "metadata": {},
   "outputs": [],
   "source": []
  }
 ],
 "metadata": {
  "kernelspec": {
   "display_name": "Python 2",
   "language": "python",
   "name": "python2"
  },
  "language_info": {
   "codemirror_mode": {
    "name": "ipython",
    "version": 2
   },
   "file_extension": ".py",
   "mimetype": "text/x-python",
   "name": "python",
   "nbconvert_exporter": "python",
   "pygments_lexer": "ipython2",
   "version": "2.7.15"
  }
 },
 "nbformat": 4,
 "nbformat_minor": 2
}
